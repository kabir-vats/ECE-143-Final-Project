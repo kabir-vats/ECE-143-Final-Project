{
 "cells": [
  {
   "cell_type": "code",
   "execution_count": 1,
   "id": "4c6eedbe-16cb-4e31-a62c-a9bf10ce80d4",
   "metadata": {},
   "outputs": [
    {
     "name": "stderr",
     "output_type": "stream",
     "text": [
      "[nltk_data] Downloading package stopwords to /home/kvats/nltk_data...\n",
      "[nltk_data]   Package stopwords is already up-to-date!\n",
      "[nltk_data] Downloading package punkt to /home/kvats/nltk_data...\n",
      "[nltk_data]   Package punkt is already up-to-date!\n",
      "[nltk_data] Downloading package punkt_tab to /home/kvats/nltk_data...\n",
      "[nltk_data]   Package punkt_tab is already up-to-date!\n"
     ]
    }
   ],
   "source": [
    "import pandas as pd\n",
    "import numpy as np\n",
    "import matplotlib.pyplot as plt\n",
    "import seaborn as sns\n",
    "import nltk\n",
    "import os\n",
    "nltk.download('stopwords')\n",
    "nltk.download('punkt')\n",
    "nltk.download('punkt_tab')\n",
    "\n",
    "from string import punctuation\n",
    "from nltk.corpus import stopwords \n",
    "from nltk.tokenize import word_tokenize\n",
    "from sklearn.feature_extraction.text import CountVectorizer\n",
    "from sklearn.linear_model import LogisticRegression\n",
    "from sklearn.metrics import accuracy_score\n",
    "from sklearn.model_selection import GridSearchCV, train_test_split\n",
    "from sklearn.metrics import classification_report,confusion_matrix"
   ]
  },
  {
   "cell_type": "code",
   "execution_count": 2,
   "id": "da84dcb8-2587-4970-926b-83d0e1adcf77",
   "metadata": {},
   "outputs": [],
   "source": [
    "first_n_words = 200\n",
    "def trim_string(x):\n",
    "\n",
    "    x = x.split(maxsplit=first_n_words)\n",
    "    x = ' '.join(x[:first_n_words])\n",
    "\n",
    "    return x"
   ]
  },
  {
   "cell_type": "code",
   "execution_count": 3,
   "id": "21177113-af3f-4ebc-9905-cebc1778f06d",
   "metadata": {},
   "outputs": [],
   "source": [
    "def dataset_split(path='raw/',ratio=(0.7,0.15,0.15))->pd.DataFrame:\n",
    "    \"\"\"split raw csv files into train, validation and test sets\n",
    "\n",
    "    Args:\n",
    "        path (str, optional): path of raw files. Defaults to '../raw/'.\n",
    "        ratio (tuple, optional): splitting ratio. Defaults to (0.7,0.15,0.15).\n",
    "\n",
    "    Returns:\n",
    "        pd.DataFrame: train, validation and test sets\n",
    "    \"\"\"    \n",
    "    assert sum(ratio)==1.0 and len(ratio)==3, \"ratio error\"\n",
    "    true_df = pd.read_csv(path+'Fake.csv')\n",
    "    fake_df = pd.read_csv(path+'True.csv')\n",
    "    true_df[\"label\"] = 1\n",
    "    fake_df[\"label\"] = 0\n",
    "    df = pd.concat([true_df, fake_df], ignore_index=True)\n",
    "    df['titletext'] = df['title'] + \". \" + df['text']\n",
    "    df['text'] = df['text'].apply(trim_string)\n",
    "    df['titletext'] = df['titletext'].apply(trim_string) \n",
    "    df = df.reindex(columns=['label', 'title', 'text', 'titletext'])\n",
    "    df = df.sample(frac=1, random_state=42).reset_index(drop=True)\n",
    "    train_df, temp_df = train_test_split(df, test_size=ratio[2]+ratio[1], random_state=42, stratify=df[\"label\"])\n",
    "    val_df, test_df = train_test_split(temp_df, test_size=ratio[2]/(ratio[2]+ratio[1]), random_state=42, stratify=temp_df[\"label\"])\n",
    "    return train_df,val_df,test_df"
   ]
  },
  {
   "cell_type": "code",
   "execution_count": 4,
   "id": "9e0007cf-c92a-4d26-9cea-b21805410af8",
   "metadata": {},
   "outputs": [
    {
     "data": {
      "text/plain": [
       "'/home/kvats/private/nw/ECE-143-Final-Project'"
      ]
     },
     "execution_count": 4,
     "metadata": {},
     "output_type": "execute_result"
    }
   ],
   "source": [
    "os.chdir('..')\n",
    "os.getcwd()"
   ]
  },
  {
   "cell_type": "code",
   "execution_count": 5,
   "id": "753c1e76-2225-49b3-9ad7-641c6774714e",
   "metadata": {},
   "outputs": [],
   "source": [
    "import sys\n",
    "sys.path.append('src')"
   ]
  },
  {
   "cell_type": "code",
   "execution_count": 6,
   "id": "2bf16848-b80b-4f25-807c-f6b6bc058090",
   "metadata": {},
   "outputs": [
    {
     "name": "stdout",
     "output_type": "stream",
     "text": [
      "Defaulting to user installation because normal site-packages is not writeable\n",
      "Requirement already satisfied: transformers in /opt/conda/lib/python3.11/site-packages (4.44.2)\n",
      "Requirement already satisfied: filelock in /opt/conda/lib/python3.11/site-packages (from transformers) (3.13.1)\n",
      "Requirement already satisfied: huggingface-hub<1.0,>=0.23.2 in /opt/conda/lib/python3.11/site-packages (from transformers) (0.25.0)\n",
      "Requirement already satisfied: numpy>=1.17 in /opt/conda/lib/python3.11/site-packages (from transformers) (1.26.4)\n",
      "Requirement already satisfied: packaging>=20.0 in /opt/conda/lib/python3.11/site-packages (from transformers) (24.0)\n",
      "Requirement already satisfied: pyyaml>=5.1 in /opt/conda/lib/python3.11/site-packages (from transformers) (6.0.1)\n",
      "Requirement already satisfied: regex!=2019.12.17 in /opt/conda/lib/python3.11/site-packages (from transformers) (2024.9.11)\n",
      "Requirement already satisfied: requests in /opt/conda/lib/python3.11/site-packages (from transformers) (2.32.3)\n",
      "Requirement already satisfied: safetensors>=0.4.1 in /opt/conda/lib/python3.11/site-packages (from transformers) (0.4.5)\n",
      "Requirement already satisfied: tokenizers<0.20,>=0.19 in /opt/conda/lib/python3.11/site-packages (from transformers) (0.19.1)\n",
      "Requirement already satisfied: tqdm>=4.27 in /opt/conda/lib/python3.11/site-packages (from transformers) (4.66.5)\n",
      "Requirement already satisfied: fsspec>=2023.5.0 in /opt/conda/lib/python3.11/site-packages (from huggingface-hub<1.0,>=0.23.2->transformers) (2024.3.1)\n",
      "Requirement already satisfied: typing-extensions>=3.7.4.3 in /opt/conda/lib/python3.11/site-packages (from huggingface-hub<1.0,>=0.23.2->transformers) (4.11.0)\n",
      "Requirement already satisfied: charset-normalizer<4,>=2 in /opt/conda/lib/python3.11/site-packages (from requests->transformers) (3.3.2)\n",
      "Requirement already satisfied: idna<4,>=2.5 in /opt/conda/lib/python3.11/site-packages (from requests->transformers) (3.7)\n",
      "Requirement already satisfied: urllib3<3,>=1.21.1 in /opt/conda/lib/python3.11/site-packages (from requests->transformers) (2.2.1)\n",
      "Requirement already satisfied: certifi>=2017.4.17 in /opt/conda/lib/python3.11/site-packages (from requests->transformers) (2024.8.30)\n"
     ]
    }
   ],
   "source": [
    "!pip install transformers"
   ]
  },
  {
   "cell_type": "code",
   "execution_count": 7,
   "id": "d557dfdf-0469-4974-8da1-640e71cc93ed",
   "metadata": {},
   "outputs": [],
   "source": [
    "import matplotlib.pyplot as plt\n",
    "import pandas as pd\n",
    "import torch\n",
    "\n",
    "# Preliminaries\n",
    "# from torchtext import _extension\n",
    "# from torchtext.data import Field, TabularDataset, BucketIterator, Iterator\n",
    "\n",
    "# Models\n",
    "import torch.nn as nn\n",
    "from transformers import BertTokenizer, BertForSequenceClassification\n",
    "\n",
    "# Training\n",
    "import torch.optim as optim\n",
    "\n",
    "# Evaluation\n",
    "from sklearn.metrics import accuracy_score, classification_report, confusion_matrix\n",
    "import seaborn as sns"
   ]
  },
  {
   "cell_type": "code",
   "execution_count": 8,
   "id": "3b46f049-fc55-41e9-a4fc-9cfe3ac2df27",
   "metadata": {},
   "outputs": [
    {
     "name": "stdout",
     "output_type": "stream",
     "text": [
      "cuda:0\n"
     ]
    },
    {
     "name": "stderr",
     "output_type": "stream",
     "text": [
      "/opt/conda/lib/python3.11/site-packages/transformers/tokenization_utils_base.py:1601: FutureWarning: `clean_up_tokenization_spaces` was not set. It will be set to `True` by default. This behavior will be depracted in transformers v4.45, and will be then set to `False` by default. For more details check this issue: https://github.com/huggingface/transformers/issues/31884\n",
      "  warnings.warn(\n"
     ]
    }
   ],
   "source": [
    "device = torch.device('cuda:0' if torch.cuda.is_available() else 'cpu')\n",
    "print(device)\n",
    "tokenizer = BertTokenizer.from_pretrained('bert-base-uncased')"
   ]
  },
  {
   "cell_type": "code",
   "execution_count": 20,
   "id": "6a3bbffc-1c52-455f-8ce8-b2a1345ef78d",
   "metadata": {},
   "outputs": [
    {
     "name": "stderr",
     "output_type": "stream",
     "text": [
      "/opt/conda/lib/python3.11/site-packages/transformers/tokenization_utils_base.py:1601: FutureWarning: `clean_up_tokenization_spaces` was not set. It will be set to `True` by default. This behavior will be depracted in transformers v4.45, and will be then set to `False` by default. For more details check this issue: https://github.com/huggingface/transformers/issues/31884\n",
      "  warnings.warn(\n"
     ]
    },
    {
     "name": "stdout",
     "output_type": "stream",
     "text": [
      "       label                                              title  \\\n",
      "29528      1  “SHE’S NO PUSHOVER”: How Sarah Huckabee Sander...   \n",
      "13884      0  Macedonia's largest opposition party appoints ...   \n",
      "21642      1  Trump’s Disastrously-Misspelled Terrorist Atta...   \n",
      "12207      0  Three Turkish soldiers killed in southeast: mi...   \n",
      "6972       0  'Nearly man' Ramaphosa edges closer to South A...   \n",
      "\n",
      "                                                    text  \\\n",
      "29528  Deputy Press Secretary Sarah Huckabee Sanders ...   \n",
      "13884  House Republicans leaders on Monday embraced a...   \n",
      "21642  When Trump s White House released a list of te...   \n",
      "12207  FOX News Catherine Herridge exposes the dirty ...   \n",
      "6972   The University of Chicago s admissions office ...   \n",
      "\n",
      "                                               titletext  \n",
      "29528  “SHE’S NO PUSHOVER”: How Sarah Huckabee Sander...  \n",
      "13884  Macedonia's largest opposition party appoints ...  \n",
      "21642  Trump’s Disastrously-Misspelled Terrorist Atta...  \n",
      "12207  Three Turkish soldiers killed in southeast: mi...  \n",
      "6972   'Nearly man' Ramaphosa edges closer to South A...  \n",
      "torch.Size([16, 128])\n",
      "torch.Size([16])\n"
     ]
    }
   ],
   "source": [
    "import torch\n",
    "import pandas as pd\n",
    "from torch.utils.data import Dataset, DataLoader\n",
    "from transformers import AutoTokenizer\n",
    "\n",
    "# Model parameters\n",
    "MAX_SEQ_LEN = 128\n",
    "tokenizer = AutoTokenizer.from_pretrained(\"bert-base-uncased\")\n",
    "\n",
    "PAD_INDEX = tokenizer.pad_token_id\n",
    "UNK_INDEX = tokenizer.unk_token_id\n",
    "\n",
    "# Load CSV Data\n",
    "train_df, valid_df, test_df = dataset_split(ratio = (0.1, 0.1, 0.8))\n",
    "# Just\n",
    "\n",
    "# Custom Dataset Class\n",
    "class TextDataset(Dataset):\n",
    "    def __init__(self, df, tokenizer, max_length):\n",
    "        self.labels = df[\"label\"].values\n",
    "        self.texts = df[\"text\"].values\n",
    "        self.titles = df[\"title\"].values\n",
    "        self.titletexts = df[\"titletext\"].values\n",
    "        self.tokenizer = tokenizer\n",
    "        self.max_length = max_length\n",
    "\n",
    "    def __len__(self):\n",
    "        return len(self.labels)\n",
    "\n",
    "    def __getitem__(self, idx):\n",
    "        label = torch.tensor(self.labels[idx], dtype=torch.float)\n",
    "\n",
    "        # Tokenize text, title, and titletext\n",
    "        encoded_text = self.tokenizer(self.texts[idx], padding=\"max_length\", truncation=True, max_length=self.max_length, return_tensors=\"pt\")\n",
    "        encoded_title = self.tokenizer(self.titles[idx], padding=\"max_length\", truncation=True, max_length=self.max_length, return_tensors=\"pt\")\n",
    "        encoded_titletext = self.tokenizer(self.titletexts[idx], padding=\"max_length\", truncation=True, max_length=self.max_length, return_tensors=\"pt\")\n",
    "\n",
    "        return {\n",
    "            \"label\": label,\n",
    "            \"text\": encoded_text[\"input_ids\"].squeeze(0),\n",
    "            \"title\": encoded_title[\"input_ids\"].squeeze(0),\n",
    "            \"titletext\": encoded_titletext[\"input_ids\"].squeeze(0),\n",
    "        }\n",
    "\n",
    "# Create Dataset Objects\n",
    "train_dataset = TextDataset(train_df, tokenizer, MAX_SEQ_LEN)\n",
    "valid_dataset = TextDataset(valid_df, tokenizer, MAX_SEQ_LEN)\n",
    "test_dataset = TextDataset(test_df, tokenizer, MAX_SEQ_LEN)\n",
    "\n",
    "# Collate Function for Padding & Sorting (Optional)\n",
    "def collate_fn(batch):\n",
    "    labels = torch.stack([item[\"label\"] for item in batch])\n",
    "    texts = torch.stack([item[\"text\"] for item in batch])\n",
    "    titles = torch.stack([item[\"title\"] for item in batch])\n",
    "    titletexts = torch.stack([item[\"titletext\"] for item in batch])\n",
    "    \n",
    "    return {\"label\": labels, \"text\": texts, \"title\": titles, \"titletext\": titletexts}\n",
    "\n",
    "# Create DataLoaders (Replacing BucketIterator)\n",
    "device = torch.device(\"cuda\" if torch.cuda.is_available() else \"cpu\")\n",
    "\n",
    "train_loader = DataLoader(train_dataset, batch_size=16, shuffle=True, collate_fn=collate_fn)\n",
    "valid_loader = DataLoader(valid_dataset, batch_size=16, shuffle=False, collate_fn=collate_fn)\n",
    "test_loader = DataLoader(test_dataset, batch_size=16, shuffle=False, collate_fn=collate_fn)\n",
    "\n",
    "# Example Batch\n",
    "for batch in train_loader:\n",
    "    print(batch[\"text\"].shape)  # Expected: (batch_size, MAX_SEQ_LEN)\n",
    "    print(batch[\"label\"].shape) # Expected: (batch_size,)\n",
    "    break"
   ]
  },
  {
   "cell_type": "code",
   "execution_count": 22,
   "id": "eaf6c196-3cc7-4027-a2df-a62a880342b2",
   "metadata": {},
   "outputs": [],
   "source": [
    "class BERT(nn.Module):\n",
    "\n",
    "    def __init__(self):\n",
    "        super(BERT, self).__init__()\n",
    "\n",
    "        options_name = \"bert-base-uncased\"\n",
    "        self.encoder = BertForSequenceClassification.from_pretrained(options_name)\n",
    "\n",
    "    def forward(self, text, label):\n",
    "        def forward(self, text, label=None):\n",
    "            if label is not None:\n",
    "                # Training mode with labels\n",
    "                loss, text_fea = self.encoder(text, labels=label)[:2]\n",
    "                return loss, text_fea\n",
    "            else:\n",
    "                # Inference mode without labels\n",
    "                output = self.encoder(text)\n",
    "                return output.logits"
   ]
  },
  {
   "cell_type": "code",
   "execution_count": 11,
   "id": "831bfd71-4ff1-4526-b7c8-2eaf723b94d3",
   "metadata": {},
   "outputs": [],
   "source": [
    "def save_checkpoint(save_path, model, valid_loss):\n",
    "\n",
    "    if save_path == None:\n",
    "        return\n",
    "    \n",
    "    state_dict = {'model_state_dict': model.state_dict(),\n",
    "                  'valid_loss': valid_loss}\n",
    "    \n",
    "    torch.save(state_dict, save_path)\n",
    "    print(f'Model saved to ==> {save_path}')\n",
    "\n",
    "def load_checkpoint(load_path, model):\n",
    "    \n",
    "    if load_path==None:\n",
    "        return\n",
    "    \n",
    "    state_dict = torch.load(load_path, map_location=device)\n",
    "    print(f'Model loaded from <== {load_path}')\n",
    "    \n",
    "    model.load_state_dict(state_dict['model_state_dict'])\n",
    "    return state_dict['valid_loss']\n",
    "\n",
    "\n",
    "def save_metrics(save_path, train_loss_list, valid_loss_list, global_steps_list):\n",
    "\n",
    "    if save_path == None:\n",
    "        return\n",
    "    \n",
    "    state_dict = {'train_loss_list': train_loss_list,\n",
    "                  'valid_loss_list': valid_loss_list,\n",
    "                  'global_steps_list': global_steps_list}\n",
    "    \n",
    "    torch.save(state_dict, save_path)\n",
    "    print(f'Model saved to ==> {save_path}')\n",
    "\n",
    "\n",
    "def load_metrics(load_path):\n",
    "\n",
    "    if load_path==None:\n",
    "        return\n",
    "    \n",
    "    state_dict = torch.load(load_path, map_location=device)\n",
    "    print(f'Model loaded from <== {load_path}')\n",
    "    \n",
    "    return state_dict['train_loss_list'], state_dict['valid_loss_list'], state_dict['global_steps_list']"
   ]
  },
  {
   "cell_type": "code",
   "execution_count": 12,
   "id": "7c1b3424-754f-4e4a-a594-3389777b65fd",
   "metadata": {},
   "outputs": [],
   "source": [
    "import torch\n",
    "import torch.nn as nn\n",
    "\n",
    "def train(model,\n",
    "          optimizer,\n",
    "          criterion=nn.BCELoss(),\n",
    "          train_loader=None,\n",
    "          valid_loader=None,\n",
    "          num_epochs=5,\n",
    "          eval_every=None,\n",
    "          file_path=\"./\",\n",
    "          best_valid_loss=float(\"Inf\")):\n",
    "    \n",
    "    # Initialize running values\n",
    "    running_loss = 0.0\n",
    "    valid_running_loss = 0.0\n",
    "    global_step = 0\n",
    "    train_loss_list = []\n",
    "    valid_loss_list = []\n",
    "    global_steps_list = []\n",
    "\n",
    "    device = torch.device(\"cuda\" if torch.cuda.is_available() else \"cpu\")\n",
    "    print(device)\n",
    "    model.to(device)\n",
    "\n",
    "    # Set evaluation interval if not provided\n",
    "    if eval_every is None:\n",
    "        eval_every = len(train_loader) // 2\n",
    "\n",
    "    # Training loop\n",
    "    model.train()\n",
    "    for epoch in range(num_epochs):\n",
    "        for batch in train_loader:\n",
    "            labels = batch[\"label\"].type(torch.LongTensor)\n",
    "            titletext = batch[\"titletext\"].type(torch.LongTensor) \n",
    "            labels = labels.to(device)\n",
    "            titletext = titletext.to(device)\n",
    "\n",
    "            # Forward pass\n",
    "            output = model(titletext, labels)\n",
    "            loss, _ = output  # Assuming model returns (loss, logits)\n",
    "\n",
    "            # Backpropagation\n",
    "            optimizer.zero_grad()\n",
    "            loss.backward()\n",
    "            optimizer.step()\n",
    "\n",
    "            # Update running loss\n",
    "            running_loss += loss.item()\n",
    "            global_step += 1\n",
    "\n",
    "            # Evaluation step\n",
    "            if global_step % eval_every == 0:\n",
    "                model.eval()\n",
    "                with torch.no_grad():  \n",
    "                    valid_running_loss = 0.0  \n",
    "\n",
    "                    for batch in valid_loader:\n",
    "                        labels = batch[\"label\"].type(torch.LongTensor)\n",
    "                        titletext = batch[\"titletext\"].type(torch.LongTensor) \n",
    "                        labels = labels.to(device)\n",
    "                        titletext = titletext.to(device)\n",
    "                        \n",
    "                        output = model(titletext, labels)\n",
    "                        loss, _ = output  \n",
    "                        \n",
    "                        valid_running_loss += loss.item()\n",
    "\n",
    "                # Compute average losses\n",
    "                average_train_loss = running_loss / eval_every\n",
    "                average_valid_loss = valid_running_loss / len(valid_loader)\n",
    "                train_loss_list.append(average_train_loss)\n",
    "                valid_loss_list.append(average_valid_loss)\n",
    "                global_steps_list.append(global_step)\n",
    "\n",
    "                # Reset running losses\n",
    "                running_loss = 0.0\n",
    "                model.train()\n",
    "\n",
    "                # Print progress\n",
    "                print(f\"Epoch [{epoch+1}/{num_epochs}], Step [{global_step}/{num_epochs * len(train_loader)}], \"\n",
    "                      f\"Train Loss: {average_train_loss:.4f}, Valid Loss: {average_valid_loss:.4f}\")\n",
    "\n",
    "                # Save best model\n",
    "                if best_valid_loss > average_valid_loss:\n",
    "                    best_valid_loss = average_valid_loss\n",
    "                    save_checkpoint(f\"{file_path}/model.pt\", model, best_valid_loss)\n",
    "                    save_metrics(f\"{file_path}/metrics.pt\", train_loss_list, valid_loss_list, global_steps_list)\n",
    "\n",
    "    # Save final metrics\n",
    "    save_metrics(f\"{file_path}/metrics.pt\", train_loss_list, valid_loss_list, global_steps_list)\n",
    "    print(\"Finished Training!\")"
   ]
  },
  {
   "cell_type": "code",
   "execution_count": 13,
   "id": "c07f90d9-0af3-4a08-b050-8253ab686a6d",
   "metadata": {
    "scrolled": true
   },
   "outputs": [
    {
     "name": "stderr",
     "output_type": "stream",
     "text": [
      "Some weights of BertForSequenceClassification were not initialized from the model checkpoint at bert-base-uncased and are newly initialized: ['classifier.bias', 'classifier.weight']\n",
      "You should probably TRAIN this model on a down-stream task to be able to use it for predictions and inference.\n"
     ]
    },
    {
     "name": "stdout",
     "output_type": "stream",
     "text": [
      "cuda\n"
     ]
    },
    {
     "name": "stderr",
     "output_type": "stream",
     "text": [
      "We strongly recommend passing in an `attention_mask` since your input_ids may be padded. See https://huggingface.co/docs/transformers/troubleshooting#incorrect-output-when-padding-tokens-arent-masked.\n"
     ]
    },
    {
     "name": "stdout",
     "output_type": "stream",
     "text": [
      "Epoch [1/5], Step [105/1055], Train Loss: 0.4112, Valid Loss: 0.0728\n",
      "Model saved to ==> .//model.pt\n",
      "Model saved to ==> .//metrics.pt\n",
      "Epoch [1/5], Step [210/1055], Train Loss: 0.0576, Valid Loss: 0.0316\n",
      "Model saved to ==> .//model.pt\n",
      "Model saved to ==> .//metrics.pt\n",
      "Epoch [2/5], Step [315/1055], Train Loss: 0.0289, Valid Loss: 0.0370\n",
      "Epoch [2/5], Step [420/1055], Train Loss: 0.0227, Valid Loss: 0.1027\n",
      "Epoch [3/5], Step [525/1055], Train Loss: 0.0071, Valid Loss: 0.0405\n",
      "Epoch [3/5], Step [630/1055], Train Loss: 0.0164, Valid Loss: 0.0322\n",
      "Epoch [4/5], Step [735/1055], Train Loss: 0.0024, Valid Loss: 0.0808\n",
      "Epoch [4/5], Step [840/1055], Train Loss: 0.0177, Valid Loss: 0.0165\n",
      "Model saved to ==> .//model.pt\n",
      "Model saved to ==> .//metrics.pt\n",
      "Epoch [5/5], Step [945/1055], Train Loss: 0.0023, Valid Loss: 0.0248\n",
      "Epoch [5/5], Step [1050/1055], Train Loss: 0.0006, Valid Loss: 0.0252\n",
      "Model saved to ==> .//metrics.pt\n",
      "Finished Training!\n"
     ]
    }
   ],
   "source": [
    "model = BERT().to(device)\n",
    "optimizer = optim.Adam(model.parameters(), lr=2e-5)\n",
    "\n",
    "train(model=model, optimizer=optimizer, train_loader=train_loader, valid_loader=valid_loader)"
   ]
  },
  {
   "cell_type": "code",
   "execution_count": 15,
   "id": "55a7ba0a-64af-4ffc-9ac3-60e70ee5d767",
   "metadata": {},
   "outputs": [
    {
     "name": "stdout",
     "output_type": "stream",
     "text": [
      "Model loaded from <== .//metrics.pt\n"
     ]
    },
    {
     "data": {
      "image/png": "[encoded data removed]",
      "text/plain": [
       "<Figure size 640x480 with 1 Axes>"
      ]
     },
     "metadata": {},
     "output_type": "display_data"
    }
   ],
   "source": [
    "train_loss_list, valid_loss_list, global_steps_list = load_metrics(\"./\"+ '/metrics.pt')\n",
    "plt.plot(global_steps_list, train_loss_list, label='Train')\n",
    "plt.plot(global_steps_list, valid_loss_list, label='Valid')\n",
    "plt.xlabel('Global Steps')\n",
    "plt.ylabel('Loss')\n",
    "plt.legend()\n",
    "plt.show()"
   ]
  },
  {
   "cell_type": "code",
   "execution_count": 23,
   "id": "b8f20e77-098b-4385-8003-463aea959ad4",
   "metadata": {},
   "outputs": [],
   "source": [
    "def evaluate(model, test_loader):\n",
    "    y_pred = []\n",
    "    y_true = []\n",
    "\n",
    "    model.eval()\n",
    "    with torch.no_grad():\n",
    "        for batch in test_loader:\n",
    "            labels = batch[\"label\"].type(torch.LongTensor)\n",
    "            titletext = batch[\"titletext\"].type(torch.LongTensor) \n",
    "            labels = labels.to(device)\n",
    "            titletext = titletext.to(device)\n",
    "            \n",
    "            # Only pass titletext, not labels\n",
    "            output = model.encoder(titletext)\n",
    "            logits = output.logits\n",
    "            \n",
    "            y_pred.extend(torch.argmax(logits, 1).tolist())\n",
    "            y_true.extend(labels.tolist())\n",
    "    \n",
    "    print('Classification Report:')\n",
    "    print(classification_report(y_true, y_pred, labels=[1,0], digits=4))\n",
    "    \n",
    "    cm = confusion_matrix(y_true, y_pred, labels=[1,0])\n",
    "    ax= plt.subplot()\n",
    "    sns.heatmap(cm, annot=True, ax = ax, cmap='Greens', fmt=\"d\")\n",
    "\n",
    "    ax.set_title('Confusion Matrix')\n",
    "\n",
    "    ax.set_xlabel('Predicted Labels')\n",
    "    ax.set_ylabel('True Labels')\n",
    "\n",
    "    ax.xaxis.set_ticklabels(['FAKE', 'REAL'])\n",
    "    ax.yaxis.set_ticklabels(['FAKE', 'REAL'])"
   ]
  },
  {
   "cell_type": "code",
   "execution_count": 24,
   "id": "1e537603-1991-4088-a18c-18303892c5ec",
   "metadata": {},
   "outputs": [
    {
     "name": "stderr",
     "output_type": "stream",
     "text": [
      "Some weights of BertForSequenceClassification were not initialized from the model checkpoint at bert-base-uncased and are newly initialized: ['classifier.bias', 'classifier.weight']\n",
      "You should probably TRAIN this model on a down-stream task to be able to use it for predictions and inference.\n"
     ]
    },
    {
     "name": "stdout",
     "output_type": "stream",
     "text": [
      "Model loaded from <== .//model.pt\n",
      "Classification Report:\n",
      "              precision    recall  f1-score   support\n",
      "\n",
      "           1     0.9963    0.9940    0.9951     13957\n",
      "           0     0.9935    0.9960    0.9947     12935\n",
      "\n",
      "    accuracy                         0.9949     26892\n",
      "   macro avg     0.9949    0.9950    0.9949     26892\n",
      "weighted avg     0.9949    0.9949    0.9949     26892\n",
      "\n"
     ]
    },
    {
     "data": {
      "image/png": "[encoded data removed]",
      "text/plain": [
       "<Figure size 640x480 with 2 Axes>"
      ]
     },
     "metadata": {},
     "output_type": "display_data"
    }
   ],
   "source": [
    "best_model = BERT().to(device)\n",
    "\n",
    "load_checkpoint(\"./\" + '/model.pt', best_model)\n",
    "\n",
    "evaluate(best_model, test_loader)"
   ]
  },
  {
   "cell_type": "code",
   "execution_count": null,
   "id": "1907ee80-8b60-4957-9fcf-5bc34cdf3382",
   "metadata": {},
   "outputs": [],
   "source": []
  }
 ],
 "metadata": {
  "kernelspec": {
   "display_name": "Python 3 (ipykernel)",
   "language": "python",
   "name": "python3"
  },
  "language_info": {
   "codemirror_mode": {
    "name": "ipython",
    "version": 3
   },
   "file_extension": ".py",
   "mimetype": "text/x-python",
   "name": "python",
   "nbconvert_exporter": "python",
   "pygments_lexer": "ipython3",
   "version": "3.11.9"
  }
 },
 "nbformat": 4,
 "nbformat_minor": 5
}
