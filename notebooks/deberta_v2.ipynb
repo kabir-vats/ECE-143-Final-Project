{
 "cells": [
  {
   "cell_type": "code",
   "execution_count": 1,
   "id": "4c6eedbe-16cb-4e31-a62c-a9bf10ce80d4",
   "metadata": {},
   "outputs": [
    {
     "name": "stderr",
     "output_type": "stream",
     "text": [
      "[nltk_data] Downloading package stopwords to /home/kvats/nltk_data...\n",
      "[nltk_data]   Package stopwords is already up-to-date!\n",
      "[nltk_data] Downloading package punkt to /home/kvats/nltk_data...\n",
      "[nltk_data]   Package punkt is already up-to-date!\n",
      "[nltk_data] Downloading package punkt_tab to /home/kvats/nltk_data...\n",
      "[nltk_data]   Package punkt_tab is already up-to-date!\n"
     ]
    }
   ],
   "source": [
    "import pandas as pd\n",
    "import numpy as np\n",
    "import matplotlib.pyplot as plt\n",
    "import seaborn as sns\n",
    "import nltk\n",
    "import os\n",
    "nltk.download('stopwords')\n",
    "nltk.download('punkt')\n",
    "nltk.download('punkt_tab')\n",
    "\n",
    "from string import punctuation\n",
    "from nltk.corpus import stopwords \n",
    "from nltk.tokenize import word_tokenize\n",
    "from sklearn.feature_extraction.text import CountVectorizer\n",
    "from sklearn.linear_model import LogisticRegression\n",
    "from sklearn.metrics import accuracy_score\n",
    "from sklearn.model_selection import GridSearchCV, train_test_split\n",
    "from sklearn.metrics import classification_report,confusion_matrix"
   ]
  },
  {
   "cell_type": "code",
   "execution_count": 2,
   "id": "da84dcb8-2587-4970-926b-83d0e1adcf77",
   "metadata": {},
   "outputs": [],
   "source": [
    "first_n_words = 200\n",
    "def trim_string(x):\n",
    "\n",
    "    x = x.split(maxsplit=first_n_words)\n",
    "    x = ' '.join(x[:first_n_words])\n",
    "\n",
    "    return x"
   ]
  },
  {
   "cell_type": "code",
   "execution_count": 30,
   "id": "21177113-af3f-4ebc-9905-cebc1778f06d",
   "metadata": {},
   "outputs": [],
   "source": [
    "def dataset_split(path='raw/',ratio=(0.7,0.15,0.15))->pd.DataFrame:\n",
    "    \"\"\"split raw csv files into train, validation and test sets\n",
    "\n",
    "    Args:\n",
    "        path (str, optional): path of raw files. Defaults to '../raw/'.\n",
    "        ratio (tuple, optional): splitting ratio. Defaults to (0.7,0.15,0.15).\n",
    "\n",
    "    Returns:\n",
    "        pd.DataFrame: train, validation and test sets\n",
    "    \"\"\"    \n",
    "    assert sum(ratio)==1.0 and len(ratio)==3, \"ratio error\"\n",
    "    fake_df = pd.read_csv(path+'Fake.csv')\n",
    "    true_df = pd.read_csv(path+'True.csv')\n",
    "    true_df[\"label\"] = 1\n",
    "    fake_df[\"label\"] = 0\n",
    "    df = pd.concat([true_df, fake_df], ignore_index=True)\n",
    "    df['titletext'] = df['title'] + \". \" + df['text']\n",
    "    df['text'] = df['text'].apply(trim_string)\n",
    "    df['titletext'] = df['titletext'].apply(trim_string) \n",
    "    df = df.reindex(columns=['label', 'title', 'text', 'titletext'])\n",
    "    df = df.sample(frac=1, random_state=42).reset_index(drop=True)\n",
    "    train_df, temp_df = train_test_split(df, test_size=ratio[2]+ratio[1], random_state=42, stratify=df[\"label\"])\n",
    "    val_df, test_df = train_test_split(temp_df, test_size=ratio[2]/(ratio[2]+ratio[1]), random_state=42, stratify=temp_df[\"label\"])\n",
    "    return train_df,val_df,test_df"
   ]
  },
  {
   "cell_type": "code",
   "execution_count": 38,
   "id": "9e0007cf-c92a-4d26-9cea-b21805410af8",
   "metadata": {},
   "outputs": [
    {
     "data": {
      "text/plain": [
       "'/home/kvats/private/nw/ECE-143-Final-Project'"
      ]
     },
     "execution_count": 38,
     "metadata": {},
     "output_type": "execute_result"
    }
   ],
   "source": [
    "os.chdir('..')\n",
    "os.getcwd()"
   ]
  },
  {
   "cell_type": "code",
   "execution_count": 32,
   "id": "753c1e76-2225-49b3-9ad7-641c6774714e",
   "metadata": {},
   "outputs": [],
   "source": [
    "import sys\n",
    "sys.path.append('src')"
   ]
  },
  {
   "cell_type": "code",
   "execution_count": 33,
   "id": "2bf16848-b80b-4f25-807c-f6b6bc058090",
   "metadata": {},
   "outputs": [
    {
     "name": "stderr",
     "output_type": "stream",
     "text": [
      "huggingface/tokenizers: The current process just got forked, after parallelism has already been used. Disabling parallelism to avoid deadlocks...\n",
      "To disable this warning, you can either:\n",
      "\t- Avoid using `tokenizers` before the fork if possible\n",
      "\t- Explicitly set the environment variable TOKENIZERS_PARALLELISM=(true | false)\n"
     ]
    },
    {
     "name": "stdout",
     "output_type": "stream",
     "text": [
      "Defaulting to user installation because normal site-packages is not writeable\n",
      "Requirement already satisfied: transformers in /opt/conda/lib/python3.11/site-packages (4.44.2)\n",
      "Requirement already satisfied: filelock in /opt/conda/lib/python3.11/site-packages (from transformers) (3.13.1)\n",
      "Requirement already satisfied: huggingface-hub<1.0,>=0.23.2 in /opt/conda/lib/python3.11/site-packages (from transformers) (0.25.0)\n",
      "Requirement already satisfied: numpy>=1.17 in /opt/conda/lib/python3.11/site-packages (from transformers) (1.26.4)\n",
      "Requirement already satisfied: packaging>=20.0 in /opt/conda/lib/python3.11/site-packages (from transformers) (24.0)\n",
      "Requirement already satisfied: pyyaml>=5.1 in /opt/conda/lib/python3.11/site-packages (from transformers) (6.0.1)\n",
      "Requirement already satisfied: regex!=2019.12.17 in /opt/conda/lib/python3.11/site-packages (from transformers) (2024.9.11)\n",
      "Requirement already satisfied: requests in /opt/conda/lib/python3.11/site-packages (from transformers) (2.32.3)\n",
      "Requirement already satisfied: safetensors>=0.4.1 in /opt/conda/lib/python3.11/site-packages (from transformers) (0.4.5)\n",
      "Requirement already satisfied: tokenizers<0.20,>=0.19 in /opt/conda/lib/python3.11/site-packages (from transformers) (0.19.1)\n",
      "Requirement already satisfied: tqdm>=4.27 in /opt/conda/lib/python3.11/site-packages (from transformers) (4.66.5)\n",
      "Requirement already satisfied: fsspec>=2023.5.0 in /opt/conda/lib/python3.11/site-packages (from huggingface-hub<1.0,>=0.23.2->transformers) (2024.3.1)\n",
      "Requirement already satisfied: typing-extensions>=3.7.4.3 in /opt/conda/lib/python3.11/site-packages (from huggingface-hub<1.0,>=0.23.2->transformers) (4.11.0)\n",
      "Requirement already satisfied: charset-normalizer<4,>=2 in /opt/conda/lib/python3.11/site-packages (from requests->transformers) (3.3.2)\n",
      "Requirement already satisfied: idna<4,>=2.5 in /opt/conda/lib/python3.11/site-packages (from requests->transformers) (3.7)\n",
      "Requirement already satisfied: urllib3<3,>=1.21.1 in /opt/conda/lib/python3.11/site-packages (from requests->transformers) (2.2.1)\n",
      "Requirement already satisfied: certifi>=2017.4.17 in /opt/conda/lib/python3.11/site-packages (from requests->transformers) (2024.8.30)\n"
     ]
    }
   ],
   "source": [
    "!pip install transformers"
   ]
  },
  {
   "cell_type": "code",
   "execution_count": 34,
   "id": "d557dfdf-0469-4974-8da1-640e71cc93ed",
   "metadata": {},
   "outputs": [],
   "source": [
    "import matplotlib.pyplot as plt\n",
    "import pandas as pd\n",
    "import torch\n",
    "\n",
    "# Preliminaries\n",
    "# from torchtext import _extension\n",
    "# from torchtext.data import Field, TabularDataset, BucketIterator, Iterator\n",
    "\n",
    "# Models\n",
    "import torch.nn as nn\n",
    "from transformers import BertTokenizer, BertForSequenceClassification\n",
    "\n",
    "# Training\n",
    "import torch.optim as optim\n",
    "\n",
    "# Evaluation\n",
    "from sklearn.metrics import accuracy_score, classification_report, confusion_matrix\n",
    "import seaborn as sns"
   ]
  },
  {
   "cell_type": "code",
   "execution_count": 35,
   "id": "3b46f049-fc55-41e9-a4fc-9cfe3ac2df27",
   "metadata": {},
   "outputs": [
    {
     "name": "stdout",
     "output_type": "stream",
     "text": [
      "cuda:0\n"
     ]
    },
    {
     "name": "stderr",
     "output_type": "stream",
     "text": [
      "/opt/conda/lib/python3.11/site-packages/transformers/tokenization_utils_base.py:1601: FutureWarning: `clean_up_tokenization_spaces` was not set. It will be set to `True` by default. This behavior will be depracted in transformers v4.45, and will be then set to `False` by default. For more details check this issue: https://github.com/huggingface/transformers/issues/31884\n",
      "  warnings.warn(\n"
     ]
    }
   ],
   "source": [
    "device = torch.device('cuda:0' if torch.cuda.is_available() else 'cpu')\n",
    "print(device)\n",
    "tokenizer = BertTokenizer.from_pretrained('bert-base-uncased')"
   ]
  },
  {
   "cell_type": "code",
   "execution_count": 39,
   "id": "6a3bbffc-1c52-455f-8ce8-b2a1345ef78d",
   "metadata": {},
   "outputs": [
    {
     "name": "stderr",
     "output_type": "stream",
     "text": [
      "/opt/conda/lib/python3.11/site-packages/transformers/tokenization_utils_base.py:1601: FutureWarning: `clean_up_tokenization_spaces` was not set. It will be set to `True` by default. This behavior will be depracted in transformers v4.45, and will be then set to `False` by default. For more details check this issue: https://github.com/huggingface/transformers/issues/31884\n",
      "  warnings.warn(\n"
     ]
    },
    {
     "name": "stdout",
     "output_type": "stream",
     "text": [
      "torch.Size([16, 128])\n",
      "torch.Size([16])\n"
     ]
    }
   ],
   "source": [
    "import torch\n",
    "import pandas as pd\n",
    "from torch.utils.data import Dataset, DataLoader\n",
    "from transformers import AutoTokenizer\n",
    "\n",
    "# Model parameters\n",
    "MAX_SEQ_LEN = 128\n",
    "tokenizer = AutoTokenizer.from_pretrained(\"bert-base-uncased\")\n",
    "\n",
    "PAD_INDEX = tokenizer.pad_token_id\n",
    "UNK_INDEX = tokenizer.unk_token_id\n",
    "\n",
    "# Load CSV Data\n",
    "train_df, valid_df, test_df = dataset_split(ratio = (0.1, 0.1, 0.8))\n",
    "# Just\n",
    "\n",
    "# Custom Dataset Class\n",
    "class TextDataset(Dataset):\n",
    "    def __init__(self, df, tokenizer, max_length):\n",
    "        self.labels = df[\"label\"].values\n",
    "        self.texts = df[\"text\"].values\n",
    "        self.titles = df[\"title\"].values\n",
    "        self.titletexts = df[\"titletext\"].values\n",
    "        self.tokenizer = tokenizer\n",
    "        self.max_length = max_length\n",
    "\n",
    "    def __len__(self):\n",
    "        return len(self.labels)\n",
    "\n",
    "    def __getitem__(self, idx):\n",
    "        label = torch.tensor(self.labels[idx], dtype=torch.float)\n",
    "\n",
    "        # Tokenize text, title, and titletext\n",
    "        encoded_text = self.tokenizer(self.texts[idx], padding=\"max_length\", truncation=True, max_length=self.max_length, return_tensors=\"pt\")\n",
    "        encoded_title = self.tokenizer(self.titles[idx], padding=\"max_length\", truncation=True, max_length=self.max_length, return_tensors=\"pt\")\n",
    "        encoded_titletext = self.tokenizer(self.titletexts[idx], padding=\"max_length\", truncation=True, max_length=self.max_length, return_tensors=\"pt\")\n",
    "\n",
    "        return {\n",
    "            \"label\": label,\n",
    "            \"text\": encoded_text[\"input_ids\"].squeeze(0),\n",
    "            \"title\": encoded_title[\"input_ids\"].squeeze(0),\n",
    "            \"titletext\": encoded_titletext[\"input_ids\"].squeeze(0),\n",
    "        }\n",
    "\n",
    "# Create Dataset Objects\n",
    "train_dataset = TextDataset(train_df, tokenizer, MAX_SEQ_LEN)\n",
    "valid_dataset = TextDataset(valid_df, tokenizer, MAX_SEQ_LEN)\n",
    "test_dataset = TextDataset(test_df, tokenizer, MAX_SEQ_LEN)\n",
    "\n",
    "# Collate Function for Padding & Sorting (Optional)\n",
    "def collate_fn(batch):\n",
    "    labels = torch.stack([item[\"label\"] for item in batch])\n",
    "    texts = torch.stack([item[\"text\"] for item in batch])\n",
    "    titles = torch.stack([item[\"title\"] for item in batch])\n",
    "    titletexts = torch.stack([item[\"titletext\"] for item in batch])\n",
    "    \n",
    "    return {\"label\": labels, \"text\": texts, \"title\": titles, \"titletext\": titletexts}\n",
    "\n",
    "# Create DataLoaders (Replacing BucketIterator)\n",
    "device = torch.device(\"cuda\" if torch.cuda.is_available() else \"cpu\")\n",
    "\n",
    "train_loader = DataLoader(train_dataset, batch_size=16, shuffle=True, collate_fn=collate_fn)\n",
    "valid_loader = DataLoader(valid_dataset, batch_size=16, shuffle=False, collate_fn=collate_fn)\n",
    "test_loader = DataLoader(test_dataset, batch_size=16, shuffle=False, collate_fn=collate_fn)\n",
    "\n",
    "# Example Batch\n",
    "for batch in train_loader:\n",
    "    print(batch[\"text\"].shape)  # Expected: (batch_size, MAX_SEQ_LEN)\n",
    "    print(batch[\"label\"].shape) # Expected: (batch_size,)\n",
    "    break"
   ]
  },
  {
   "cell_type": "code",
   "execution_count": 41,
   "id": "d4063ee2-e64c-4df6-9470-da33230f5743",
   "metadata": {},
   "outputs": [
    {
     "name": "stdout",
     "output_type": "stream",
     "text": [
      "Label distribution in train: Counter({0: 1744, 1: 1617})\n",
      "Label distribution in valid: Counter({0: 1744, 1: 1617})\n",
      "Label distribution in test: Counter({0: 13957, 1: 12935})\n",
      "\n",
      "\n",
      "--- CHECKING FOR SIMILAR TEXTS BETWEEN TRAIN AND TEST ---\n",
      "No highly similar texts found in the samples.\n",
      "\n",
      "\n",
      "--- FAKE NEWS EXAMPLES ---\n",
      "\n",
      "Example 9595:\n",
      "Title: Donald Trump Just Destroyed EVERY Argument Against A Recount In Just One Tweet\n",
      "Text excerpt: Donald Trump just accused millions of Americans of voter fraud, proving once again that he should be denied the presidency.Over the course of the last 24 hours, Trump has been whining about a recount effort in Wisconsin and attempts to trigger recounts in Michigan and Pennsylvania. If the recount goes against him, Hillary Clinton would become the President-Elect and Trump would be forced to go home and cry into a gold-lined pillow about how big of a loser he is.In addition to those Twitter posts about recounts, Trump just posted three more bragging that he won the popular vote even though the current vote count shows Hillary with more than a 2 million vote lead.Trump claims he won the popular vote because 3 million people voted illegally, which is a wild accusation that has zero evidence supporting it.In addition to winning the Electoral College in a landslide, I won the popular vote if you deduct the millions of people who voted illegally Donald J. Trump (@realDonaldTrump) November 27...\n",
      "\n",
      "Example 5646:\n",
      "Title: IF HILLARY IS ELECTED And Becomes Too Sick To Serve, Could Her Rapist Husband Become A De Facto President?\n",
      "Text excerpt: The applications for White House interns just took a sharp nose-dive Former President Bill Clinton could practically serve an unconstitutional third term as president if Hillary Clinton becomes sick in office if elected, given the previous first ladies who acted as presidents on behalf of their sick husbands.Former First Ladies Nancy Reagan, Mamie Eisenhower and Lady Edith Galt Wilson all made presidential decisions while their husbands were ill in office.Galt Wilson in particular acted as the de facto president when President Woodrow Wilson suffered a stroke in 1919 to prevent Vice President Thomas Marshall from assuming the presidency because Marshall was too friendly to Wilson s political rival in Congress. If a President Hillary Clinton s health were to decline, it is a certainty that former President Bill Clinton would emulate Galt and act in his wife s stead as president, said investigative journalist Wayne Madsen. Senator Tim Kaine was chosen as Mrs. Clinton s running mate becau...\n",
      "\n",
      "Example 21330:\n",
      "Title: FOX News Anchor Shepard Smith Finally ‘Comes Out,’ Admits He’s Gay\n",
      "Text excerpt: 21st Century Wire says For many viewers, this came as no surprise, but for many FOX conservative loyalists, this latest news would have come as a shock.FOX News host Shepard Smith joins other high-profile gay cable news anchors like CNN s Anderson Cooper and Don Lemon.A number of high-profile media critics including top-rated talk radio host MichaeI Savage, have recently raised the alarm that FOX News is undergoing a liberal facelift following the departure of its news head Roger Ailes over a number sexual harassment cases.Political in-fighting has also broken out at FOX in recent weeks, with two leading hosts, Sean Hannity and Megyn Kelly trading insults over which presidential candidate they support. Kelly File host, Megyn Kelly, has broken ranks and is leading her own never Trump enclave within FOX, and appears to have thrown her support behind Hillary Clinton in the hotly contested 2016 race.Is FOX News shifting gears and entering a brave new era of liberal openness ? FOX & FRIENDS...\n",
      "\n",
      "\n",
      "--- REAL NEWS EXAMPLES ---\n",
      "\n",
      "Example 32251:\n",
      "Title: Illinois governor vetoes $3.9 billion FY 2016 spending bill\n",
      "Text excerpt: Chicago Mayor Rahm Emanuel is really working hard to make Chicagoans feel a part of the city the only problem is he s focusing his efforts on the illegal aliens who live there. To add insult to injury, Chicago s murder rate is sky high with no end in sight but, but, but the illegals have a new fancy ID to give them the same benefits as everyone else in the city at a cost of millions to taxpayers. The card is free to the freeloaders while the taxpayers foot the bill The name municipal ID was initially floated for the program, but Emanuel revealed that Chicago s city IDs would actually be called City Keys. He said City Keys were designed to give a person who doesn t have an ID or a driver s license essentially the same benefits as those who do. When somebody says, Can I see your driver s license? what that unlocks and what that smooths out and all the speed bumps that literally get eliminated because you have a driver s license, Emanuel said.The mayor says the IDs will also provide benef...\n",
      "\n",
      "Example 31939:\n",
      "Title: Mattis says options on Afghanistan to be presented to Trump 'very soon'\n",
      "Text excerpt: The working class voters who supported Donald Trump just got duped again.Because if Trump s Secretary of Labor pick has his way, workers will no longer be able to take a much needed break during the workday.Workers need breaks. It gives them a chance to grab something to eat and recharge their batteries so they can go back to work with a fresher mind and body. Workers perform their jobs better with breaks and are less likely to make mistakes.That s why workers get a mandatory break thanks to labor unions and the federal government.But fast-food CEO Andrew Puzder wants to force workers to work straight through the day without a break.In a 2009 interview dug up by OC Weekly, Puzder expressed his disdain for the state of California where the Carl s Jr. restaurant originated and openly whined about overtime laws and other worker protections, including laws allowing workers to take a much needed break during their shift.Trump s labor man also had choice words for Carl s Jr. s home state. I ...\n",
      "\n",
      "Example 30155:\n",
      "Title: Imran Khan's PTI retains seat in by-election, but new religious parties gain\n",
      "Text excerpt: Who could forget the unbelievable standoff in Oregon between patriots and the government? Who could forget the dramatic shooting of patriot Savoy Finicum who traveled from Arizona to Oregon from to stand with American ranchers against the BLM, an overbearing government agency. Oregon State Police troopers fired the three rounds that killed the Arizona rancher and father of 11 during a confrontation on a remote road, law enforcement officials said at a news conference in Bend.An independent investigation by Oregon authorities later found the troopers were justified in shooting Finicum because he failed to heed their commands and repeatedly reached for his weapon, Masher County District Attorney Dan Norris said.The not guilty verdict of the other members who were involved with Finicum who gave his life for the fight against our government, must be especially stinging for the large loving family this father of 11 left behind.As expected, liberals are freaking out over the verdicts, like t...\n",
      "\n",
      "\n",
      "--- RAW DATA STRUCTURE ---\n",
      "Fake.csv columns: ['title', 'text', 'subject', 'date']\n",
      "True.csv columns: ['title', 'text', 'subject', 'date']\n",
      "\n",
      "Fake news subjects:\n",
      "subject\n",
      "News               9049\n",
      "politics           6417\n",
      "US_News             783\n",
      "left-news           682\n",
      "Government News     514\n",
      "Name: count, dtype: int64\n",
      "\n",
      "Real news subjects:\n",
      "subject\n",
      "politicsNews    11132\n",
      "worldnews        5037\n",
      "Name: count, dtype: int64\n"
     ]
    }
   ],
   "source": [
    "# 1. Label Distribution Analysis\n",
    "from collections import Counter\n",
    "print(\"Label distribution in train:\", Counter(train_df['label'].tolist()))\n",
    "print(\"Label distribution in valid:\", Counter(valid_df['label'].tolist()))\n",
    "print(\"Label distribution in test:\", Counter(test_df['label'].tolist()))\n",
    "\n",
    "# 2. Text Similarity Check\n",
    "def text_similarity(text1, text2):\n",
    "    \"\"\"Simple similarity measure - proportion of shared words\"\"\"\n",
    "    words1 = set(text1.lower().split())\n",
    "    words2 = set(text2.lower().split())\n",
    "    if not words1 or not words2:\n",
    "        return 0\n",
    "    return len(words1 & words2) / min(len(words1), len(words2))\n",
    "\n",
    "# Sample some train examples\n",
    "train_samples = train_df.sample(min(50, len(train_df)))\n",
    "test_samples = test_df.sample(min(50, len(test_df)))\n",
    "\n",
    "print(\"\\n\\n--- CHECKING FOR SIMILAR TEXTS BETWEEN TRAIN AND TEST ---\")\n",
    "high_sim_count = 0\n",
    "for idx, train_row in train_samples.iterrows():\n",
    "    train_text = train_row['titletext']\n",
    "    for test_idx, test_row in test_samples.iterrows():\n",
    "        test_text = test_row['titletext']\n",
    "        sim = text_similarity(train_text, test_text)\n",
    "        if sim > 0.8:  # High similarity threshold\n",
    "            print(f\"\\nHigh similarity detected ({sim:.2f}):\")\n",
    "            print(f\"TRAIN: {train_text[:100]}...\")\n",
    "            print(f\"TEST:  {test_text[:100]}...\")\n",
    "            print(\"TRAIN LABEL:\", train_row['label'])\n",
    "            print(\"TEST LABEL:\", test_row['label']) \n",
    "            print(\"-\" * 80)\n",
    "            high_sim_count += 1\n",
    "            if high_sim_count >= 5:  # Limit output\n",
    "                break\n",
    "    if high_sim_count >= 5:\n",
    "        break\n",
    "\n",
    "if high_sim_count == 0:\n",
    "    print(\"No highly similar texts found in the samples.\")\n",
    "\n",
    "# 3. Content Analysis - Show examples from each class\n",
    "print(\"\\n\\n--- FAKE NEWS EXAMPLES ---\")\n",
    "fake_examples = train_df[train_df['label'] == 0].head(3)\n",
    "for i, row in fake_examples.iterrows():\n",
    "    print(f\"\\nExample {i}:\")\n",
    "    print(f\"Title: {row['title']}\")\n",
    "    print(f\"Text excerpt: {row['text'][:1000]}...\")\n",
    "\n",
    "print(\"\\n\\n--- REAL NEWS EXAMPLES ---\")\n",
    "real_examples = train_df[train_df['label'] == 1].head(3)\n",
    "for i, row in real_examples.iterrows():\n",
    "    print(f\"\\nExample {i}:\")\n",
    "    print(f\"Title: {row['title']}\")\n",
    "    print(f\"Text excerpt: {row['text'][:1000]}...\")\n",
    "\n",
    "# 4. Check if the raw data contains additional columns that might help explain the issue\n",
    "print(\"\\n\\n--- RAW DATA STRUCTURE ---\")\n",
    "try:\n",
    "    fake_raw = pd.read_csv('raw/Fake.csv')\n",
    "    true_raw = pd.read_csv('raw/True.csv')\n",
    "    \n",
    "    print(\"Fake.csv columns:\", fake_raw.columns.tolist())\n",
    "    print(\"True.csv columns:\", true_raw.columns.tolist())\n",
    "    \n",
    "    # If there's a 'source' column, analyze it\n",
    "    if 'subject' in fake_raw.columns:\n",
    "        print(\"\\nFake news subjects:\")\n",
    "        print(fake_raw['subject'].value_counts())\n",
    "    \n",
    "    if 'subject' in true_raw.columns:\n",
    "        print(\"\\nReal news subjects:\")\n",
    "        print(true_raw['subject'].value_counts())\n",
    "        \n",
    "except Exception as e:\n",
    "    print(f\"Error reading raw data: {e}\")"
   ]
  },
  {
   "cell_type": "code",
   "execution_count": 22,
   "id": "eaf6c196-3cc7-4027-a2df-a62a880342b2",
   "metadata": {},
   "outputs": [],
   "source": [
    "class BERT(nn.Module):\n",
    "\n",
    "    def __init__(self):\n",
    "        super(BERT, self).__init__()\n",
    "\n",
    "        options_name = \"bert-base-uncased\"\n",
    "        self.encoder = BertForSequenceClassification.from_pretrained(options_name)\n",
    "\n",
    "    def forward(self, text, label):\n",
    "        def forward(self, text, label=None):\n",
    "            if label is not None:\n",
    "                # Training mode with labels\n",
    "                loss, text_fea = self.encoder(text, labels=label)[:2]\n",
    "                return loss, text_fea\n",
    "            else:\n",
    "                # Inference mode without labels\n",
    "                output = self.encoder(text)\n",
    "                return output.logits"
   ]
  },
  {
   "cell_type": "code",
   "execution_count": 11,
   "id": "831bfd71-4ff1-4526-b7c8-2eaf723b94d3",
   "metadata": {},
   "outputs": [],
   "source": [
    "def save_checkpoint(save_path, model, valid_loss):\n",
    "\n",
    "    if save_path == None:\n",
    "        return\n",
    "    \n",
    "    state_dict = {'model_state_dict': model.state_dict(),\n",
    "                  'valid_loss': valid_loss}\n",
    "    \n",
    "    torch.save(state_dict, save_path)\n",
    "    print(f'Model saved to ==> {save_path}')\n",
    "\n",
    "def load_checkpoint(load_path, model):\n",
    "    \n",
    "    if load_path==None:\n",
    "        return\n",
    "    \n",
    "    state_dict = torch.load(load_path, map_location=device)\n",
    "    print(f'Model loaded from <== {load_path}')\n",
    "    \n",
    "    model.load_state_dict(state_dict['model_state_dict'])\n",
    "    return state_dict['valid_loss']\n",
    "\n",
    "\n",
    "def save_metrics(save_path, train_loss_list, valid_loss_list, global_steps_list):\n",
    "\n",
    "    if save_path == None:\n",
    "        return\n",
    "    \n",
    "    state_dict = {'train_loss_list': train_loss_list,\n",
    "                  'valid_loss_list': valid_loss_list,\n",
    "                  'global_steps_list': global_steps_list}\n",
    "    \n",
    "    torch.save(state_dict, save_path)\n",
    "    print(f'Model saved to ==> {save_path}')\n",
    "\n",
    "\n",
    "def load_metrics(load_path):\n",
    "\n",
    "    if load_path==None:\n",
    "        return\n",
    "    \n",
    "    state_dict = torch.load(load_path, map_location=device)\n",
    "    print(f'Model loaded from <== {load_path}')\n",
    "    \n",
    "    return state_dict['train_loss_list'], state_dict['valid_loss_list'], state_dict['global_steps_list']"
   ]
  },
  {
   "cell_type": "code",
   "execution_count": 12,
   "id": "7c1b3424-754f-4e4a-a594-3389777b65fd",
   "metadata": {
    "jupyter": {
     "source_hidden": true
    }
   },
   "outputs": [],
   "source": [
    "import torch\n",
    "import torch.nn as nn\n",
    "\n",
    "def train(model,\n",
    "          optimizer,\n",
    "          criterion=nn.BCELoss(),\n",
    "          train_loader=None,\n",
    "          valid_loader=None,\n",
    "          num_epochs=5,\n",
    "          eval_every=None,\n",
    "          file_path=\"./\",\n",
    "          best_valid_loss=float(\"Inf\")):\n",
    "    \n",
    "    # Initialize running values\n",
    "    running_loss = 0.0\n",
    "    valid_running_loss = 0.0\n",
    "    global_step = 0\n",
    "    train_loss_list = []\n",
    "    valid_loss_list = []\n",
    "    global_steps_list = []\n",
    "\n",
    "    device = torch.device(\"cuda\" if torch.cuda.is_available() else \"cpu\")\n",
    "    print(device)\n",
    "    model.to(device)\n",
    "\n",
    "    # Set evaluation interval if not provided\n",
    "    if eval_every is None:\n",
    "        eval_every = len(train_loader) // 2\n",
    "\n",
    "    # Training loop\n",
    "    model.train()\n",
    "    for epoch in range(num_epochs):\n",
    "        for batch in train_loader:\n",
    "            labels = batch[\"label\"].type(torch.LongTensor)\n",
    "            titletext = batch[\"titletext\"].type(torch.LongTensor) \n",
    "            labels = labels.to(device)\n",
    "            titletext = titletext.to(device)\n",
    "\n",
    "            # Forward pass\n",
    "            output = model(titletext, labels)\n",
    "            loss, _ = output  # Assuming model returns (loss, logits)\n",
    "\n",
    "            # Backpropagation\n",
    "            optimizer.zero_grad()\n",
    "            loss.backward()\n",
    "            optimizer.step()\n",
    "\n",
    "            # Update running loss\n",
    "            running_loss += loss.item()\n",
    "            global_step += 1\n",
    "\n",
    "            # Evaluation step\n",
    "            if global_step % eval_every == 0:\n",
    "                model.eval()\n",
    "                with torch.no_grad():  \n",
    "                    valid_running_loss = 0.0  \n",
    "\n",
    "                    for batch in valid_loader:\n",
    "                        labels = batch[\"label\"].type(torch.LongTensor)\n",
    "                        titletext = batch[\"titletext\"].type(torch.LongTensor) \n",
    "                        labels = labels.to(device)\n",
    "                        titletext = titletext.to(device)\n",
    "                        \n",
    "                        output = model(titletext, labels)\n",
    "                        loss, _ = output  \n",
    "                        \n",
    "                        valid_running_loss += loss.item()\n",
    "\n",
    "                # Compute average losses\n",
    "                average_train_loss = running_loss / eval_every\n",
    "                average_valid_loss = valid_running_loss / len(valid_loader)\n",
    "                train_loss_list.append(average_train_loss)\n",
    "                valid_loss_list.append(average_valid_loss)\n",
    "                global_steps_list.append(global_step)\n",
    "\n",
    "                # Reset running losses\n",
    "                running_loss = 0.0\n",
    "                model.train()\n",
    "\n",
    "                # Print progress\n",
    "                print(f\"Epoch [{epoch+1}/{num_epochs}], Step [{global_step}/{num_epochs * len(train_loader)}], \"\n",
    "                      f\"Train Loss: {average_train_loss:.4f}, Valid Loss: {average_valid_loss:.4f}\")\n",
    "\n",
    "                # Save best model\n",
    "                if best_valid_loss > average_valid_loss:\n",
    "                    best_valid_loss = average_valid_loss\n",
    "                    save_checkpoint(f\"{file_path}/model.pt\", model, best_valid_loss)\n",
    "                    save_metrics(f\"{file_path}/metrics.pt\", train_loss_list, valid_loss_list, global_steps_list)\n",
    "\n",
    "    # Save final metrics\n",
    "    save_metrics(f\"{file_path}/metrics.pt\", train_loss_list, valid_loss_list, global_steps_list)\n",
    "    print(\"Finished Training!\")"
   ]
  },
  {
   "cell_type": "code",
   "execution_count": 13,
   "id": "c07f90d9-0af3-4a08-b050-8253ab686a6d",
   "metadata": {
    "scrolled": true
   },
   "outputs": [
    {
     "name": "stderr",
     "output_type": "stream",
     "text": [
      "Some weights of BertForSequenceClassification were not initialized from the model checkpoint at bert-base-uncased and are newly initialized: ['classifier.bias', 'classifier.weight']\n",
      "You should probably TRAIN this model on a down-stream task to be able to use it for predictions and inference.\n"
     ]
    },
    {
     "name": "stdout",
     "output_type": "stream",
     "text": [
      "cuda\n"
     ]
    },
    {
     "name": "stderr",
     "output_type": "stream",
     "text": [
      "We strongly recommend passing in an `attention_mask` since your input_ids may be padded. See https://huggingface.co/docs/transformers/troubleshooting#incorrect-output-when-padding-tokens-arent-masked.\n"
     ]
    },
    {
     "name": "stdout",
     "output_type": "stream",
     "text": [
      "Epoch [1/5], Step [105/1055], Train Loss: 0.4112, Valid Loss: 0.0728\n",
      "Model saved to ==> .//model.pt\n",
      "Model saved to ==> .//metrics.pt\n",
      "Epoch [1/5], Step [210/1055], Train Loss: 0.0576, Valid Loss: 0.0316\n",
      "Model saved to ==> .//model.pt\n",
      "Model saved to ==> .//metrics.pt\n",
      "Epoch [2/5], Step [315/1055], Train Loss: 0.0289, Valid Loss: 0.0370\n",
      "Epoch [2/5], Step [420/1055], Train Loss: 0.0227, Valid Loss: 0.1027\n",
      "Epoch [3/5], Step [525/1055], Train Loss: 0.0071, Valid Loss: 0.0405\n",
      "Epoch [3/5], Step [630/1055], Train Loss: 0.0164, Valid Loss: 0.0322\n",
      "Epoch [4/5], Step [735/1055], Train Loss: 0.0024, Valid Loss: 0.0808\n",
      "Epoch [4/5], Step [840/1055], Train Loss: 0.0177, Valid Loss: 0.0165\n",
      "Model saved to ==> .//model.pt\n",
      "Model saved to ==> .//metrics.pt\n",
      "Epoch [5/5], Step [945/1055], Train Loss: 0.0023, Valid Loss: 0.0248\n",
      "Epoch [5/5], Step [1050/1055], Train Loss: 0.0006, Valid Loss: 0.0252\n",
      "Model saved to ==> .//metrics.pt\n",
      "Finished Training!\n"
     ]
    }
   ],
   "source": [
    "model = BERT().to(device)\n",
    "optimizer = optim.Adam(model.parameters(), lr=2e-5)\n",
    "\n",
    "train(model=model, optimizer=optimizer, train_loader=train_loader, valid_loader=valid_loader)"
   ]
  },
  {
   "cell_type": "code",
   "execution_count": 3,
   "id": "55a7ba0a-64af-4ffc-9ac3-60e70ee5d767",
   "metadata": {},
   "outputs": [
    {
     "ename": "NameError",
     "evalue": "name 'torch' is not defined",
     "output_type": "error",
     "traceback": [
      "\u001b[0;31m---------------------------------------------------------------------------\u001b[0m",
      "\u001b[0;31mNameError\u001b[0m                                 Traceback (most recent call last)",
      "Cell \u001b[0;32mIn[3], line 8\u001b[0m\n\u001b[1;32m      5\u001b[0m \u001b[38;5;28;01mdef\u001b[39;00m \u001b[38;5;21mload_metrics\u001b[39m(filepath):\n\u001b[1;32m      6\u001b[0m     \u001b[38;5;28;01mreturn\u001b[39;00m torch\u001b[38;5;241m.\u001b[39mload(filepath)\n\u001b[0;32m----> 8\u001b[0m train_loss_list, valid_loss_list, global_steps_list \u001b[38;5;241m=\u001b[39m \u001b[43mload_metrics\u001b[49m\u001b[43m(\u001b[49m\u001b[38;5;124;43m\"\u001b[39;49m\u001b[38;5;124;43m./metrics.pt\u001b[39;49m\u001b[38;5;124;43m\"\u001b[39;49m\u001b[43m)\u001b[49m\n\u001b[1;32m     10\u001b[0m \u001b[38;5;66;03m# Set seaborn style for a cleaner look\u001b[39;00m\n\u001b[1;32m     11\u001b[0m sns\u001b[38;5;241m.\u001b[39mset_style(\u001b[38;5;124m\"\u001b[39m\u001b[38;5;124mwhitegrid\u001b[39m\u001b[38;5;124m\"\u001b[39m)\n",
      "Cell \u001b[0;32mIn[3], line 6\u001b[0m, in \u001b[0;36mload_metrics\u001b[0;34m(filepath)\u001b[0m\n\u001b[1;32m      5\u001b[0m \u001b[38;5;28;01mdef\u001b[39;00m \u001b[38;5;21mload_metrics\u001b[39m(filepath):\n\u001b[0;32m----> 6\u001b[0m     \u001b[38;5;28;01mreturn\u001b[39;00m \u001b[43mtorch\u001b[49m\u001b[38;5;241m.\u001b[39mload(filepath)\n",
      "\u001b[0;31mNameError\u001b[0m: name 'torch' is not defined"
     ]
    }
   ],
   "source": [
    "import matplotlib.pyplot as plt\n",
    "import seaborn as sns\n",
    "\n",
    "# Load the metrics\n",
    "def load_metrics(filepath):\n",
    "    return torch.load(filepath)\n",
    "\n",
    "train_loss_list, valid_loss_list, global_steps_list = load_metrics(\"./metrics.pt\")\n",
    "\n",
    "# Set seaborn style for a cleaner look\n",
    "sns.set_style(\"whitegrid\")\n",
    "plt.figure(figsize=(8, 5))\n",
    "\n",
    "# Plot training and validation loss\n",
    "plt.plot(global_steps_list, train_loss_list, label='Train Loss', color='royalblue', linewidth=2, marker='o', markersize=5)\n",
    "plt.plot(global_steps_list, valid_loss_list, label='Validation Loss', color='darkorange', linewidth=2, marker='s', markersize=5)\n",
    "\n",
    "# Labels and title\n",
    "plt.xlabel('Global Steps', fontsize=12)\n",
    "plt.ylabel('Loss', fontsize=12)\n",
    "plt.title('Training vs Validation Loss', fontsize=14, fontweight='bold')\n",
    "\n",
    "# Add legend\n",
    "plt.legend(frameon=True, fontsize=10)\n",
    "\n",
    "# Show the plot\n",
    "plt.show()"
   ]
  },
  {
   "cell_type": "code",
   "execution_count": 23,
   "id": "b8f20e77-098b-4385-8003-463aea959ad4",
   "metadata": {},
   "outputs": [],
   "source": [
    "def evaluate(model, test_loader):\n",
    "    y_pred = []\n",
    "    y_true = []\n",
    "\n",
    "    model.eval()\n",
    "    with torch.no_grad():\n",
    "        for batch in test_loader:\n",
    "            labels = batch[\"label\"].type(torch.LongTensor)\n",
    "            titletext = batch[\"titletext\"].type(torch.LongTensor) \n",
    "            labels = labels.to(device)\n",
    "            titletext = titletext.to(device)\n",
    "            \n",
    "            # Only pass titletext, not labels\n",
    "            output = model.encoder(titletext)\n",
    "            logits = output.logits\n",
    "            \n",
    "            y_pred.extend(torch.argmax(logits, 1).tolist())\n",
    "            y_true.extend(labels.tolist())\n",
    "    \n",
    "    print('Classification Report:')\n",
    "    print(classification_report(y_true, y_pred, labels=[1,0], digits=4))\n",
    "    \n",
    "    cm = confusion_matrix(y_true, y_pred, labels=[1,0])\n",
    "    ax= plt.subplot()\n",
    "    sns.heatmap(cm, annot=True, ax = ax, cmap='Greens', fmt=\"d\")\n",
    "\n",
    "    ax.set_title('Confusion Matrix')\n",
    "\n",
    "    ax.set_xlabel('Predicted Labels')\n",
    "    ax.set_ylabel('True Labels')\n",
    "\n",
    "    ax.xaxis.set_ticklabels(['FAKE', 'REAL'])\n",
    "    ax.yaxis.set_ticklabels(['FAKE', 'REAL'])"
   ]
  },
  {
   "cell_type": "code",
   "execution_count": 24,
   "id": "1e537603-1991-4088-a18c-18303892c5ec",
   "metadata": {},
   "outputs": [
    {
     "name": "stderr",
     "output_type": "stream",
     "text": [
      "Some weights of BertForSequenceClassification were not initialized from the model checkpoint at bert-base-uncased and are newly initialized: ['classifier.bias', 'classifier.weight']\n",
      "You should probably TRAIN this model on a down-stream task to be able to use it for predictions and inference.\n"
     ]
    },
    {
     "name": "stdout",
     "output_type": "stream",
     "text": [
      "Model loaded from <== .//model.pt\n",
      "Classification Report:\n",
      "              precision    recall  f1-score   support\n",
      "\n",
      "           1     0.9963    0.9940    0.9951     13957\n",
      "           0     0.9935    0.9960    0.9947     12935\n",
      "\n",
      "    accuracy                         0.9949     26892\n",
      "   macro avg     0.9949    0.9950    0.9949     26892\n",
      "weighted avg     0.9949    0.9949    0.9949     26892\n",
      "\n"
     ]
    },
    {
     "data": {
      "image/png": "[encoded data removed]",
      "text/plain": [
       "<Figure size 640x480 with 2 Axes>"
      ]
     },
     "metadata": {},
     "output_type": "display_data"
    }
   ],
   "source": [
    "best_model = BERT().to(device)\n",
    "\n",
    "load_checkpoint(\"./\" + '/model.pt', best_model)\n",
    "\n",
    "evaluate(best_model, test_loader)"
   ]
  },
  {
   "cell_type": "code",
   "execution_count": null,
   "id": "1907ee80-8b60-4957-9fcf-5bc34cdf3382",
   "metadata": {},
   "outputs": [],
   "source": []
  }
 ],
 "metadata": {
  "kernelspec": {
   "display_name": "Python 3 (ipykernel)",
   "language": "python",
   "name": "python3"
  },
  "language_info": {
   "codemirror_mode": {
    "name": "ipython",
    "version": 3
   },
   "file_extension": ".py",
   "mimetype": "text/x-python",
   "name": "python",
   "nbconvert_exporter": "python",
   "pygments_lexer": "ipython3",
   "version": "3.11.9"
  }
 },
 "nbformat": 4,
 "nbformat_minor": 5
}
